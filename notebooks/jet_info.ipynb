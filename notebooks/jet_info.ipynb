{
 "cells": [
  {
   "cell_type": "markdown",
   "metadata": {},
   "source": [
    "# Histogram of the number of particles in each dataset\n",
    "\n",
    "The dataset and the corresponding module are placed at `dataset` and `source/data` respectively."
   ]
  },
  {
   "cell_type": "code",
   "execution_count": 1,
   "metadata": {},
   "outputs": [],
   "source": [
    "import os\n",
    "import sys\n",
    "\n",
    "import awkward as ak\n",
    "import matplotlib.pyplot as plt\n",
    "from matplotlib.ticker import FuncFormatter, ScalarFormatter\n",
    "import numpy as np\n",
    "import seaborn as sns\n",
    "import tqdm\n",
    "\n",
    "sys.path.append(os.path.abspath('../'))\n",
    "\n",
    "from source.data import jetclass\n",
    "from source.data import jetnet\n",
    "from source.data import topqcd\n",
    "\n",
    "sns.set_theme()"
   ]
  },
  {
   "cell_type": "code",
   "execution_count": 2,
   "metadata": {},
   "outputs": [],
   "source": [
    "def events_num_ptcs_hist(x: np.ndarray, bins: int, ax: plt.Axes, title: str = None, density: bool = False):\n",
    "    \"\"\"Histogram of the number of particles in each event.\"\"\"\n",
    "\n",
    "    if density:\n",
    "        # Set the y-axis formatter to scientific notation.\n",
    "        ax.yaxis.set_major_formatter(ScalarFormatter(useMathText=True))\n",
    "        ax.ticklabel_format(style='scientific', axis='y', scilimits=(0,0))\n",
    "    else:\n",
    "        # Set the y-axis formatter to thousands.\n",
    "        y_axis_formatter = lambda y, pos: f\"{int(y / 1000)}K\"\n",
    "        ax.yaxis.set_major_formatter(FuncFormatter(y_axis_formatter))\n",
    "    \n",
    "    # The 0-th column plots the total overlapped histogram.\n",
    "    pdf, _, _ = ax.hist(\n",
    "        x=x,\n",
    "        bins=bins,\n",
    "        alpha=0.6,\n",
    "        density=density,\n",
    "    )\n",
    "\n",
    "    # Set the title of the plot.\n",
    "    if title is not None:\n",
    "        ax.set_title(title)"
   ]
  },
  {
   "cell_type": "markdown",
   "metadata": {},
   "source": [
    "### Jet Class Dataset"
   ]
  },
  {
   "cell_type": "code",
   "execution_count": 6,
   "metadata": {},
   "outputs": [
    {
     "name": "stderr",
     "output_type": "stream",
     "text": [
      "Jet Class Dataset:   0%|          | 0/10 [00:00<?, ?it/s]"
     ]
    },
    {
     "name": "stderr",
     "output_type": "stream",
     "text": [
      "Jet Class Dataset:  10%|█         | 1/10 [00:19<02:53, 19.28s/it]"
     ]
    },
    {
     "name": "stdout",
     "output_type": "stream",
     "text": [
      "Max number of particles in HToBB: 133\n"
     ]
    },
    {
     "name": "stderr",
     "output_type": "stream",
     "text": [
      "Jet Class Dataset:  20%|██        | 2/10 [00:36<02:26, 18.26s/it]"
     ]
    },
    {
     "name": "stdout",
     "output_type": "stream",
     "text": [
      "Max number of particles in HToCC: 129\n"
     ]
    },
    {
     "name": "stderr",
     "output_type": "stream",
     "text": [
      "Jet Class Dataset:  30%|███       | 3/10 [01:01<02:28, 21.20s/it]"
     ]
    },
    {
     "name": "stdout",
     "output_type": "stream",
     "text": [
      "Max number of particles in HToGG: 147\n"
     ]
    },
    {
     "name": "stderr",
     "output_type": "stream",
     "text": [
      "Jet Class Dataset:  40%|████      | 4/10 [01:15<01:49, 18.23s/it]"
     ]
    },
    {
     "name": "stdout",
     "output_type": "stream",
     "text": [
      "Max number of particles in HToWW2Q1L: 121\n"
     ]
    },
    {
     "name": "stderr",
     "output_type": "stream",
     "text": [
      "Jet Class Dataset:  50%|█████     | 5/10 [01:39<01:42, 20.46s/it]"
     ]
    },
    {
     "name": "stdout",
     "output_type": "stream",
     "text": [
      "Max number of particles in HToWW4Q: 142\n"
     ]
    },
    {
     "name": "stderr",
     "output_type": "stream",
     "text": [
      "Jet Class Dataset:  60%|██████    | 6/10 [02:04<01:28, 22.07s/it]"
     ]
    },
    {
     "name": "stdout",
     "output_type": "stream",
     "text": [
      "Max number of particles in TTBar: 152\n"
     ]
    },
    {
     "name": "stderr",
     "output_type": "stream",
     "text": [
      "Jet Class Dataset:  70%|███████   | 7/10 [02:19<00:59, 19.68s/it]"
     ]
    },
    {
     "name": "stdout",
     "output_type": "stream",
     "text": [
      "Max number of particles in TTBarLep: 150\n"
     ]
    },
    {
     "name": "stderr",
     "output_type": "stream",
     "text": [
      "Jet Class Dataset:  80%|████████  | 8/10 [02:36<00:37, 18.84s/it]"
     ]
    },
    {
     "name": "stdout",
     "output_type": "stream",
     "text": [
      "Max number of particles in WToQQ: 125\n"
     ]
    },
    {
     "name": "stderr",
     "output_type": "stream",
     "text": [
      "Jet Class Dataset:  90%|█████████ | 9/10 [02:55<00:18, 18.89s/it]"
     ]
    },
    {
     "name": "stdout",
     "output_type": "stream",
     "text": [
      "Max number of particles in ZJetsToNuNu: 166\n"
     ]
    },
    {
     "name": "stderr",
     "output_type": "stream",
     "text": [
      "Jet Class Dataset: 100%|██████████| 10/10 [03:13<00:00, 19.33s/it]"
     ]
    },
    {
     "name": "stdout",
     "output_type": "stream",
     "text": [
      "Max number of particles in ZToQQ: 128\n"
     ]
    },
    {
     "name": "stderr",
     "output_type": "stream",
     "text": [
      "\n"
     ]
    },
    {
     "data": {
      "image/png": "[encoded data removed]",
      "text/plain": [
       "<Figure size 1500x400 with 10 Axes>"
      ]
     },
     "metadata": {},
     "output_type": "display_data"
    }
   ],
   "source": [
    "num_row = 2\n",
    "num_col = 5\n",
    "fig, ax = plt.subplots(num_row, num_col, figsize=(3 * num_col, 2 * num_row))\n",
    "\n",
    "for i, channel in enumerate(tqdm.tqdm(jetclass.channels, desc='Jet Class Dataset')):\n",
    "\n",
    "    # Get the jet events.\n",
    "    jet_events = jetclass.JetEvents(channel, num_root=10)\n",
    "    print(f\"Max number of particles in {channel}: {max(jet_events.num_ptcs)}\")\n",
    "\n",
    "    # Plot the histogram.\n",
    "    events_num_ptcs_hist(\n",
    "        x=ak.to_numpy(jet_events.num_ptcs),\n",
    "        bins=20,\n",
    "        ax=ax[i // num_col, i % num_col],\n",
    "        title=channel,\n",
    "        density=True,\n",
    "    )\n",
    "\n",
    "plt.tight_layout()"
   ]
  },
  {
   "cell_type": "markdown",
   "metadata": {},
   "source": [
    "### Top QCD Dataset"
   ]
  },
  {
   "cell_type": "code",
   "execution_count": 4,
   "metadata": {},
   "outputs": [
    {
     "name": "stderr",
     "output_type": "stream",
     "text": [
      "Top QCD Dataset:   0%|          | 0/2 [00:00<?, ?it/s]"
     ]
    },
    {
     "name": "stdout",
     "output_type": "stream",
     "text": [
      "Max number of particles in top (train): 160\n",
      "Max number of particles in top (valid): 146\n"
     ]
    },
    {
     "name": "stderr",
     "output_type": "stream",
     "text": [
      "Top QCD Dataset:  50%|█████     | 1/2 [00:14<00:14, 14.59s/it]"
     ]
    },
    {
     "name": "stdout",
     "output_type": "stream",
     "text": [
      "Max number of particles in top (test): 165\n",
      "Max number of particles in qcd (train): 160\n",
      "Max number of particles in qcd (valid): 156\n"
     ]
    },
    {
     "name": "stderr",
     "output_type": "stream",
     "text": [
      "Top QCD Dataset: 100%|██████████| 2/2 [00:29<00:00, 14.59s/it]"
     ]
    },
    {
     "name": "stdout",
     "output_type": "stream",
     "text": [
      "Max number of particles in qcd (test): 153\n"
     ]
    },
    {
     "name": "stderr",
     "output_type": "stream",
     "text": [
      "\n"
     ]
    },
    {
     "data": {
      "image/png": "[encoded data removed]",
      "text/plain": [
       "<Figure size 900x400 with 6 Axes>"
      ]
     },
     "metadata": {},
     "output_type": "display_data"
    }
   ],
   "source": [
    "num_row = 2\n",
    "num_col = 3\n",
    "fig, ax = plt.subplots(num_row, num_col, figsize=(3 * num_col, 2 * num_row))\n",
    "\n",
    "for i, channel in enumerate(tqdm.tqdm(topqcd.channels, desc='Top QCD Dataset')):\n",
    "    for j, mode in enumerate(['train', 'valid', 'test']):\n",
    "        # Get the jet events.\n",
    "        jet_events = topqcd.JetEvents(channel, mode)\n",
    "        print(f\"Max number of particles in {channel} ({mode}): {max(jet_events.num_ptcs)}\")\n",
    "\n",
    "        # Plot the histogram.\n",
    "        events_num_ptcs_hist(\n",
    "            x=ak.to_numpy(jet_events.num_ptcs),\n",
    "            bins=20,\n",
    "            ax=ax[i, j],\n",
    "            title=f\"{'Top' if channel == 'top' else 'QCD'} ({mode})\",\n",
    "            density=True,\n",
    "        )\n",
    "\n",
    "plt.tight_layout()"
   ]
  },
  {
   "cell_type": "markdown",
   "metadata": {},
   "source": [
    "### Jet Net Dataset"
   ]
  },
  {
   "cell_type": "code",
   "execution_count": 5,
   "metadata": {},
   "outputs": [
    {
     "name": "stderr",
     "output_type": "stream",
     "text": [
      "Jet Class Dataset:   0%|          | 0/5 [00:00<?, ?it/s]"
     ]
    },
    {
     "name": "stderr",
     "output_type": "stream",
     "text": [
      "Jet Class Dataset:  20%|██        | 1/5 [00:00<00:00,  5.12it/s]"
     ]
    },
    {
     "name": "stdout",
     "output_type": "stream",
     "text": [
      "Max number of particles in q: 30.0\n"
     ]
    },
    {
     "name": "stderr",
     "output_type": "stream",
     "text": [
      "Jet Class Dataset:  40%|████      | 2/5 [00:00<00:00,  4.88it/s]"
     ]
    },
    {
     "name": "stdout",
     "output_type": "stream",
     "text": [
      "Max number of particles in g: 30.0\n"
     ]
    },
    {
     "name": "stderr",
     "output_type": "stream",
     "text": [
      "Jet Class Dataset:  60%|██████    | 3/5 [00:00<00:00,  4.80it/s]"
     ]
    },
    {
     "name": "stdout",
     "output_type": "stream",
     "text": [
      "Max number of particles in t: 30.0\n",
      "Max number of particles in w: 30.0\n"
     ]
    },
    {
     "name": "stderr",
     "output_type": "stream",
     "text": [
      "Jet Class Dataset: 100%|██████████| 5/5 [00:01<00:00,  4.86it/s]"
     ]
    },
    {
     "name": "stdout",
     "output_type": "stream",
     "text": [
      "Max number of particles in z: 30.0\n"
     ]
    },
    {
     "name": "stderr",
     "output_type": "stream",
     "text": [
      "\n"
     ]
    },
    {
     "data": {
      "image/png": "[encoded data removed]",
      "text/plain": [
       "<Figure size 1500x200 with 5 Axes>"
      ]
     },
     "metadata": {},
     "output_type": "display_data"
    }
   ],
   "source": [
    "num_row = 1\n",
    "num_col = 5\n",
    "fig, ax = plt.subplots(num_row, num_col, figsize=(3 * num_col, 2 * num_row))\n",
    "\n",
    "for i, channel in enumerate(tqdm.tqdm(jetnet.channels, desc='Jet Class Dataset')):\n",
    "\n",
    "    # Get the jet events.\n",
    "    jet_events = jetnet.JetEvents(channel)\n",
    "    print(f\"Max number of particles in {channel}: {max(jet_events.num_ptcs)}\")\n",
    "\n",
    "    # Plot the histogram.\n",
    "    events_num_ptcs_hist(\n",
    "        x=ak.to_numpy(jet_events.num_ptcs),\n",
    "        bins=20,\n",
    "        ax=ax[i],\n",
    "        title=channel,\n",
    "        density=True,\n",
    "    )\n",
    "\n",
    "plt.tight_layout()"
   ]
  }
 ],
 "metadata": {
  "kernelspec": {
   "display_name": "Python 3",
   "language": "python",
   "name": "python3"
  },
  "language_info": {
   "codemirror_mode": {
    "name": "ipython",
    "version": 3
   },
   "file_extension": ".py",
   "mimetype": "text/x-python",
   "name": "python",
   "nbconvert_exporter": "python",
   "pygments_lexer": "ipython3",
   "version": "3.11.-1"
  }
 },
 "nbformat": 4,
 "nbformat_minor": 2
}
